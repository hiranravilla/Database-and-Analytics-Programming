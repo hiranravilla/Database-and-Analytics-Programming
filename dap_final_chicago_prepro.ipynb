{
 "cells": [
  {
   "cell_type": "markdown",
   "id": "249b8230",
   "metadata": {},
   "source": [
    "# Importing the required Libraries"
   ]
  },
  {
   "cell_type": "code",
   "execution_count": 20,
   "id": "0a93017c",
   "metadata": {},
   "outputs": [],
   "source": [
    "import pandas as pd\n",
    "import numpy as np\n",
    "import pandas as pd\n",
    "import matplotlib.pyplot as plt\n",
    "import seaborn as sns\n",
    "import sqlalchemy\n",
    "from sqlalchemy import create_engine\n",
    "from sqlalchemy import exc\n",
    "from sqlalchemy import inspect"
   ]
  },
  {
   "cell_type": "markdown",
   "id": "c81d7d9e",
   "metadata": {},
   "source": [
    "# Cleaning and Transformation followed by Extracting the Dataset from CSV to a Pandas Dataframe"
   ]
  },
  {
   "cell_type": "code",
   "execution_count": 12,
   "id": "f5fb1c69",
   "metadata": {},
   "outputs": [],
   "source": [
    "try:\n",
    "    # Load the dataset\n",
    "    df = pd.read_csv('Chicago latest .csv')\n",
    "\n",
    "    # Remove any rows with missing values\n",
    "    df.dropna(inplace=True)\n",
    "\n",
    "    # Drop any columns that are not needed for analysis\n",
    "    columns_to_drop = ['CASE#',' IUCR', 'X COORDINATE', 'Y COORDINATE', 'LATITUDE', 'LONGITUDE', 'LOCATION']\n",
    "    df.drop(columns=columns_to_drop, inplace=True)\n",
    "\n",
    "    # Rename columns to make them easier to work with\n",
    "    new_column_names = { 'DATE  OF OCCURRENCE': 'date', 'BLOCK': 'location', ' PRIMARY DESCRIPTION': 'primary_description', ' SECONDARY DESCRIPTION': 'secondary_description', ' LOCATION DESCRIPTION': 'landmark', 'ARREST': 'arrest', 'DOMESTIC': 'domestic', 'BEAT': 'beat', 'WARD': 'ward', 'FBI CD': 'fbi_cd'}\n",
    "    df.rename(columns=new_column_names, inplace=True)\n",
    "    \n",
    "    # Select the first 10000 rows\n",
    "    df = df.head(10000)\n",
    "   \n",
    "     # Save the cleaned dataset to a new file\n",
    "    df.to_csv('cleaned_dataset.csv', index=False)\n",
    "\n",
    "    # Load the cleaned dataset\n",
    "    df = pd.read_csv('cleaned_dataset.csv')\n",
    "\n",
    "    # Drop all rows with null values\n",
    "    df.dropna(inplace=True)\n",
    "\n",
    "except Exception as e:\n",
    "    print(\"Error:\", e)\n"
   ]
  },
  {
   "cell_type": "code",
   "execution_count": 15,
   "id": "7896c81a",
   "metadata": {},
   "outputs": [],
   "source": [
    "selected_columns = ['date','location', 'primary_description', 'secondary_description', 'landmark', 'arrest', 'domestic', 'beat', 'ward', 'fbi_cd']\n",
    "\n",
    "# Create a new DataFrame with just the selected columns\n",
    "vis_df = df[selected_columns].copy()\n"
   ]
  },
  {
   "cell_type": "code",
   "execution_count": 16,
   "id": "c531278e",
   "metadata": {},
   "outputs": [
    {
     "name": "stdout",
     "output_type": "stream",
     "text": [
      "<class 'pandas.core.frame.DataFrame'>\n",
      "RangeIndex: 10000 entries, 0 to 9999\n",
      "Data columns (total 10 columns):\n",
      " #   Column                 Non-Null Count  Dtype  \n",
      "---  ------                 --------------  -----  \n",
      " 0   date                   10000 non-null  object \n",
      " 1   location               10000 non-null  object \n",
      " 2   primary_description    10000 non-null  object \n",
      " 3   secondary_description  10000 non-null  object \n",
      " 4   landmark               10000 non-null  object \n",
      " 5   arrest                 10000 non-null  object \n",
      " 6   domestic               10000 non-null  object \n",
      " 7   beat                   10000 non-null  int64  \n",
      " 8   ward                   10000 non-null  float64\n",
      " 9   fbi_cd                 10000 non-null  object \n",
      "dtypes: float64(1), int64(1), object(8)\n",
      "memory usage: 781.4+ KB\n"
     ]
    }
   ],
   "source": [
    "vis_df.info()"
   ]
  },
  {
   "cell_type": "code",
   "execution_count": 17,
   "id": "aca0ad36",
   "metadata": {},
   "outputs": [
    {
     "data": {
      "text/html": [
       "<div>\n",
       "<style scoped>\n",
       "    .dataframe tbody tr th:only-of-type {\n",
       "        vertical-align: middle;\n",
       "    }\n",
       "\n",
       "    .dataframe tbody tr th {\n",
       "        vertical-align: top;\n",
       "    }\n",
       "\n",
       "    .dataframe thead th {\n",
       "        text-align: right;\n",
       "    }\n",
       "</style>\n",
       "<table border=\"1\" class=\"dataframe\">\n",
       "  <thead>\n",
       "    <tr style=\"text-align: right;\">\n",
       "      <th></th>\n",
       "      <th>date</th>\n",
       "      <th>location</th>\n",
       "      <th>primary_description</th>\n",
       "      <th>secondary_description</th>\n",
       "      <th>landmark</th>\n",
       "      <th>arrest</th>\n",
       "      <th>domestic</th>\n",
       "      <th>beat</th>\n",
       "      <th>ward</th>\n",
       "      <th>fbi_cd</th>\n",
       "    </tr>\n",
       "  </thead>\n",
       "  <tbody>\n",
       "    <tr>\n",
       "      <th>0</th>\n",
       "      <td>03/24/2023 04:15:00 PM</td>\n",
       "      <td>017XX W FULLERTON AVE</td>\n",
       "      <td>ASSAULT</td>\n",
       "      <td>AGGRAVATED - HANDGUN</td>\n",
       "      <td>COMMERCIAL / BUSINESS OFFICE</td>\n",
       "      <td>N</td>\n",
       "      <td>N</td>\n",
       "      <td>1931</td>\n",
       "      <td>32.0</td>\n",
       "      <td>04A</td>\n",
       "    </tr>\n",
       "    <tr>\n",
       "      <th>1</th>\n",
       "      <td>03/24/2023 05:08:00 PM</td>\n",
       "      <td>006XX E GRAND AVE</td>\n",
       "      <td>ASSAULT</td>\n",
       "      <td>SIMPLE</td>\n",
       "      <td>PARKING LOT / GARAGE (NON RESIDENTIAL)</td>\n",
       "      <td>N</td>\n",
       "      <td>N</td>\n",
       "      <td>1834</td>\n",
       "      <td>42.0</td>\n",
       "      <td>08A</td>\n",
       "    </tr>\n",
       "    <tr>\n",
       "      <th>2</th>\n",
       "      <td>02/06/2023 12:00:00 AM</td>\n",
       "      <td>047XX S KOLIN AVE</td>\n",
       "      <td>DECEPTIVE PRACTICE</td>\n",
       "      <td>FINANCIAL IDENTITY THEFT $300 AND UNDER</td>\n",
       "      <td>STREET</td>\n",
       "      <td>N</td>\n",
       "      <td>N</td>\n",
       "      <td>815</td>\n",
       "      <td>14.0</td>\n",
       "      <td>11</td>\n",
       "    </tr>\n",
       "    <tr>\n",
       "      <th>3</th>\n",
       "      <td>11/03/2022 12:40:00 AM</td>\n",
       "      <td>034XX W LAKE ST</td>\n",
       "      <td>HOMICIDE</td>\n",
       "      <td>FIRST DEGREE MURDER</td>\n",
       "      <td>STREET</td>\n",
       "      <td>N</td>\n",
       "      <td>N</td>\n",
       "      <td>1123</td>\n",
       "      <td>28.0</td>\n",
       "      <td>01A</td>\n",
       "    </tr>\n",
       "    <tr>\n",
       "      <th>4</th>\n",
       "      <td>02/19/2023 04:00:00 AM</td>\n",
       "      <td>008XX E 49TH ST</td>\n",
       "      <td>CRIMINAL DAMAGE</td>\n",
       "      <td>TO PROPERTY</td>\n",
       "      <td>APARTMENT</td>\n",
       "      <td>N</td>\n",
       "      <td>Y</td>\n",
       "      <td>223</td>\n",
       "      <td>4.0</td>\n",
       "      <td>14</td>\n",
       "    </tr>\n",
       "  </tbody>\n",
       "</table>\n",
       "</div>"
      ],
      "text/plain": [
       "                     date               location primary_description  \\\n",
       "0  03/24/2023 04:15:00 PM  017XX W FULLERTON AVE             ASSAULT   \n",
       "1  03/24/2023 05:08:00 PM      006XX E GRAND AVE             ASSAULT   \n",
       "2  02/06/2023 12:00:00 AM      047XX S KOLIN AVE  DECEPTIVE PRACTICE   \n",
       "3  11/03/2022 12:40:00 AM        034XX W LAKE ST            HOMICIDE   \n",
       "4  02/19/2023 04:00:00 AM        008XX E 49TH ST     CRIMINAL DAMAGE   \n",
       "\n",
       "                     secondary_description  \\\n",
       "0                     AGGRAVATED - HANDGUN   \n",
       "1                                   SIMPLE   \n",
       "2  FINANCIAL IDENTITY THEFT $300 AND UNDER   \n",
       "3                      FIRST DEGREE MURDER   \n",
       "4                              TO PROPERTY   \n",
       "\n",
       "                                 landmark arrest domestic  beat  ward fbi_cd  \n",
       "0            COMMERCIAL / BUSINESS OFFICE      N        N  1931  32.0    04A  \n",
       "1  PARKING LOT / GARAGE (NON RESIDENTIAL)      N        N  1834  42.0    08A  \n",
       "2                                  STREET      N        N   815  14.0     11  \n",
       "3                                  STREET      N        N  1123  28.0    01A  \n",
       "4                               APARTMENT      N        Y   223   4.0     14  "
      ]
     },
     "execution_count": 17,
     "metadata": {},
     "output_type": "execute_result"
    }
   ],
   "source": [
    "vis_df.head()"
   ]
  },
  {
   "cell_type": "markdown",
   "id": "02d78da6",
   "metadata": {},
   "source": [
    "# Loading the claeaned dataset into PostgresSQL"
   ]
  },
  {
   "cell_type": "code",
   "execution_count": 7,
   "id": "b7da432b",
   "metadata": {},
   "outputs": [
    {
     "name": "stdout",
     "output_type": "stream",
     "text": [
      "connection successfull\n"
     ]
    }
   ],
   "source": [
    "import psycopg2\n",
    "\n",
    "\n",
    "# Define your database connection details.\n",
    "dbname = \"dap_project\"\n",
    "user = \"postgres\"\n",
    "password = \"postgres\"\n",
    "host = \"localhost\"\n",
    "\n",
    "\n",
    "# Connect to the database.\n",
    "conn = psycopg2.connect(database=dbname,\n",
    "                        user=user,\n",
    "                        password=password,\n",
    "                        host=host)\n",
    "\n",
    "print(\"connection successfull\")"
   ]
  },
  {
   "cell_type": "markdown",
   "id": "b598cfa9",
   "metadata": {},
   "source": [
    "# Creating a Table "
   ]
  },
  {
   "cell_type": "code",
   "execution_count": 18,
   "id": "50ac177a",
   "metadata": {},
   "outputs": [
    {
     "name": "stdout",
     "output_type": "stream",
     "text": [
      "Table created successfully!\n"
     ]
    }
   ],
   "source": [
    "try:\n",
    "    cur = conn.cursor() # Create a cursor object for executing SQL queries.\n",
    "    # SQL query to create the table with column names and data types.\n",
    "    cur.execute('''\n",
    "        CREATE TABLE IF NOT EXISTS chicago_crime(\n",
    "            date TEXT,\n",
    "            location TEXT,\n",
    "            primary_description TEXT,\n",
    "            secondary_description TEXT,\n",
    "            landmark TEXT,\n",
    "            arrest TEXT,\n",
    "            domestic TEXT,\n",
    "            beat TEXT,\n",
    "            ward TEXT,\n",
    "            fbi_cd TEXT\n",
    "        );\n",
    "    ''')\n",
    "    conn.commit() # Commit the transaction.\n",
    "    print(\"Table created successfully!\")\n",
    "except psycopg2.Error as e:\n",
    "    print(\"Error creating table:\", e)\n",
    "    conn.rollback() # Rollback the transaction in case of an error.\n",
    "finally:\n",
    "    cur.close() # Close the cursor."
   ]
  },
  {
   "cell_type": "markdown",
   "id": "5e5a6186",
   "metadata": {},
   "source": [
    "# Loading the Dataframe into created Table"
   ]
  },
  {
   "cell_type": "code",
   "execution_count": 22,
   "id": "cae6856b",
   "metadata": {},
   "outputs": [
    {
     "name": "stdout",
     "output_type": "stream",
     "text": [
      "Data loaded to PostgreSQL successfully!\n"
     ]
    }
   ],
   "source": [
    "try:\n",
    "    engine = create_engine(f'postgresql://{user}:{password}@{host}:5432/{dbname}')\n",
    "    inspector = inspect(engine)\n",
    "    # Check if the table already contains data, if so, delete all the rows. \n",
    "    table_name = 'chicago_crime'\n",
    "    if table_name in inspector.get_table_names():\n",
    "        with conn.cursor() as cursor:\n",
    "            cursor.execute(f\"DELETE FROM chicago_crime\")\n",
    "            conn.commit()  # Commit the DELETE statement\n",
    "            #print(f\"All rows deleted from table '{table_name}'.\")\n",
    "    vis_df.to_sql('chicago_crime', engine, if_exists='append', index=False)\n",
    "    engine.dispose() # Dispose the engine after data is loaded.\n",
    "    print(\"Data loaded to PostgreSQL successfully!\")\n",
    "except exc.SQLAlchemyError as e:\n",
    "    print(\"Error loading data to PostgreSQL:\", e)"
   ]
  }
 ],
 "metadata": {
  "kernelspec": {
   "display_name": "Python 3 (ipykernel)",
   "language": "python",
   "name": "python3"
  },
  "language_info": {
   "codemirror_mode": {
    "name": "ipython",
    "version": 3
   },
   "file_extension": ".py",
   "mimetype": "text/x-python",
   "name": "python",
   "nbconvert_exporter": "python",
   "pygments_lexer": "ipython3",
   "version": "3.9.13"
  }
 },
 "nbformat": 4,
 "nbformat_minor": 5
}
